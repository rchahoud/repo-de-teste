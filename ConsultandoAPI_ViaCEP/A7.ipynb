{
 "cells": [
  {
   "cell_type": "code",
   "execution_count": 5,
   "metadata": {},
   "outputs": [],
   "source": [
    "#Espaco para imports\n",
    "import requests #Pip install requests ou no codigo > !Pip install requests\n",
    "import pandas as pd\n",
    "import db_Connection as dbcon\n",
    "import json"
   ]
  },
  {
   "cell_type": "code",
   "execution_count": 6,
   "metadata": {},
   "outputs": [],
   "source": [
    "#Lista de ceps a serem procurados\n",
    "lista_ceps = ['01153000', '20050000', '70714020']"
   ]
  },
  {
   "cell_type": "code",
   "execution_count": 7,
   "metadata": {},
   "outputs": [],
   "source": [
    "#lista onde armazenaremos os enderecos\n",
    "lista_enderecos = []"
   ]
  },
  {
   "cell_type": "code",
   "execution_count": 8,
   "metadata": {},
   "outputs": [],
   "source": [
    "#Faz requisição na API pegando os dados de endero de cada CEP\n",
    "\n",
    "for cep in lista_ceps:\n",
    "    \n",
    "    url: str = \"https://viacep.com.br/ws/{}/json/\".format(cep)\n",
    "    \n",
    "    try:\n",
    "        req = requests.get(url, timeout=5)\n",
    "\n",
    "        if(req.status_code == 200):\n",
    "            endereco = req.json()            \n",
    "\n",
    "            #Monta um dicionario com os dados do Json\n",
    "            lista_enderecos.append(\n",
    "                {\n",
    "                    \"cep\": endereco['cep'],\n",
    "                    \"logradouro\": endereco['logradouro'],\n",
    "                    \"complemento\" : endereco['complemento'],\n",
    "                    \"bairro\" : endereco['bairro'],\n",
    "                    \"cep\" :endereco['cep'],\n",
    "                    \"localidade\" : endereco['localidade'],\n",
    "                    \"uf\" :endereco['uf']\n",
    "                }\n",
    "            )\n",
    "        else:\n",
    "            erro = req.raise_for_status()\n",
    "            print(f\"Erro ao buscar o Cep{cep}: {erro}\")\n",
    "    except:\n",
    "        erro = req.raise_for_status()\n",
    "        print(f\"Erro ao buscar o Cep{cep}: {erro}\")"
   ]
  },
  {
   "cell_type": "code",
   "execution_count": 9,
   "metadata": {},
   "outputs": [
    {
     "name": "stdout",
     "output_type": "stream",
     "text": [
      "{'cep': '01153-000', 'logradouro': 'Rua Vitorino Carmilo', 'complemento': '', 'bairro': 'Barra Funda', 'localidade': 'São Paulo', 'uf': 'SP'}\n",
      "{'cep': '20050-000', 'logradouro': 'Rua Alexandre Herculano', 'complemento': '', 'bairro': 'Centro', 'localidade': 'Rio de Janeiro', 'uf': 'RJ'}\n",
      "{'cep': '70714-020', 'logradouro': 'SCN Quadra 4 Bloco B', 'complemento': '', 'bairro': 'Asa Norte', 'localidade': 'Brasília', 'uf': 'DF'}\n"
     ]
    }
   ],
   "source": [
    "for item in lista_enderecos:\n",
    "    print(item)"
   ]
  },
  {
   "cell_type": "code",
   "execution_count": 14,
   "metadata": {},
   "outputs": [],
   "source": [
    "#Salvando Json em arquivo .json\n",
    "\n",
    "try:\n",
    "    with open('enderecos.json', 'w', encoding='utf-8') as json_file:\n",
    "        json.dump(lista_enderecos, json_file, ensure_ascii=False, indent=4)\n",
    "except Exception as e:\n",
    "    print(f\"Erro ao gravar arquivos json {e}\")\n"
   ]
  },
  {
   "cell_type": "code",
   "execution_count": 13,
   "metadata": {},
   "outputs": [
    {
     "data": {
      "text/plain": [
       "3"
      ]
     },
     "execution_count": 13,
     "metadata": {},
     "output_type": "execute_result"
    }
   ],
   "source": [
    "#Insere Registros no BAnco de dados criando uma nova tabela caso não existe \n",
    "\n",
    "df_enderecos = pd.DataFrame(lista_enderecos)\n",
    "\n",
    "df_enderecos.to_sql(\"TB_ENDERECO\", dbcon.engine, if_exists='replace', index=False)\n"
   ]
  }
 ],
 "metadata": {
  "kernelspec": {
   "display_name": "base",
   "language": "python",
   "name": "python3"
  },
  "language_info": {
   "codemirror_mode": {
    "name": "ipython",
    "version": 3
   },
   "file_extension": ".py",
   "mimetype": "text/x-python",
   "name": "python",
   "nbconvert_exporter": "python",
   "pygments_lexer": "ipython3",
   "version": "3.11.7"
  }
 },
 "nbformat": 4,
 "nbformat_minor": 2
}
